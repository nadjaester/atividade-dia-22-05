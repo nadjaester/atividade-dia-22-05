{
 "cells": [
  {
   "cell_type": "markdown",
   "metadata": {},
   "source": [
    "aula do dia 22/05\n",
    "aluna:Nadja Ester \n",
    "turma: 036."
   ]
  },
  {
   "cell_type": "code",
   "execution_count": 20,
   "metadata": {},
   "outputs": [
    {
     "name": "stdout",
     "output_type": "stream",
     "text": [
      "5 patinhos foram passear, além das montanhas para brincar, a mamae gritou: qua, qua, qua,qua mas só 4 patinhos voltaram de lá\n",
      "4 patinhos foram passear, além das montanhas para brincar, a mamae gritou: qua, qua, qua,qua mas só 3 patinhos voltaram de lá\n",
      "3 patinhos foram passear, além das montanhas para brincar, a mamae gritou: qua, qua, qua,qua mas só 2 patinhos voltaram de lá\n",
      "2 patinhos foram passear, além das montanhas para brincar, a mamae gritou: qua, qua, qua,qua mas só 1 patinhos voltaram de lá\n",
      "1 patinho foi passear, além das montanhas para brincar, a mamae gritou: qua, qua, qua,qua mas só 0 patinho voltou de lá\n"
     ]
    }
   ],
   "source": [
    " for patinhos in [5,4,3,2,1]:\n",
    "\n",
    "    if (patinhos > 1):\n",
    "        print(patinhos, 'patinhos foram passear, além das montanhas para brincar, a mamae gritou: qua, qua, qua,qua mas só', patinhos - 1, 'patinhos voltaram de lá')\n",
    "    else:\n",
    "        print(patinhos,'patinho foi passear, além das montanhas para brincar, a mamae gritou: qua, qua, qua,qua mas só', patinhos - 1, 'patinho voltou de lá')\n"
   ]
  },
  {
   "cell_type": "code",
   "execution_count": 40,
   "metadata": {},
   "outputs": [
    {
     "ename": "SyntaxError",
     "evalue": "invalid syntax. Perhaps you forgot a comma? (915774701.py, line 4)",
     "output_type": "error",
     "traceback": [
      "\u001b[1;36m  Cell \u001b[1;32mIn[40], line 4\u001b[1;36m\u001b[0m\n\u001b[1;33m    print(i,'elefante incomoda muita gente', i, 'elefantes' n*1, 'muito mais')\u001b[0m\n\u001b[1;37m                                                ^\u001b[0m\n\u001b[1;31mSyntaxError\u001b[0m\u001b[1;31m:\u001b[0m invalid syntax. Perhaps you forgot a comma?\n"
     ]
    }
   ],
   "source": [
    " for elefante in [1,2,3,4,5,6,7,8,9,10]:\n",
    "    n = 'incomodam'\n",
    "    if i ==10:\n",
    "        print(i,'elefante incomoda muita gente', i, 'elefantes' n*1, 'muito mais')\n",
    "    elif i>\n",
    "        print(elefante +1,'elefante incomoda muita gente', elefante+1, 'elefantes incomodam, incomodam muito mais')\n",
    "    else:\n",
    "       print(elefante +1,'elefante incomoda muita gente', elefante+1, 'elefantes incomodam, incomodam muito mais')"
   ]
  },
  {
   "cell_type": "code",
   "execution_count": 68,
   "metadata": {},
   "outputs": [
    {
     "name": "stdout",
     "output_type": "stream",
     "text": [
      "1 elefante incomoda muita gente, 2 elefantes incomodam,  incomodam muito mais.\n",
      "2 elefantes incomodam muita gente, 3 elefantes incomodam, incomodam,  incomodam muito mais.\n",
      "3 elefantes incomodam muita gente, 4 elefantes incomodam, incomodam, incomodam,  incomodam muito mais.\n",
      "4 elefantes incomodam muita gente, 5 elefantes incomodam, incomodam, incomodam, incomodam,  incomodam muito mais.\n",
      "5 elefantes incomodam muita gente, 6 elefantes incomodam, incomodam, incomodam, incomodam, incomodam,  incomodam muito mais.\n",
      "6 elefantes incomodam muita gente, 7 elefantes incomodam, incomodam, incomodam, incomodam, incomodam, incomodam,  incomodam muito mais.\n",
      "7 elefantes incomodam muita gente, 8 elefantes incomodam, incomodam, incomodam, incomodam, incomodam, incomodam, incomodam,  incomodam muito mais.\n",
      "8 elefantes incomodam muita gente, 9 elefantes incomodam, incomodam, incomodam, incomodam, incomodam, incomodam, incomodam, incomodam,  incomodam muito mais.\n",
      "9 elefantes incomodam muita gente, 10 elefantes incomodam, incomodam, incomodam, incomodam, incomodam, incomodam, incomodam, incomodam, incomodam,  incomodam muito mais.\n"
     ]
    }
   ],
   "source": [
    "for elefante in [1, 2, 3, 4, 5, 6, 7, 8, 9,]:\n",
    "  if (elefante == 1):\n",
    "    print(elefante, \"elefante incomoda muita gente,\" , elefante+1 , \"elefantes\", elefante*  \"incomodam, \", \"incomodam muito mais.\")\n",
    "  else:\n",
    "    print(elefante, \"elefantes incomodam muita gente,\" , elefante+1 , \"elefantes\", elefante* \"incomodam, \", \"incomodam muito mais.\")\n",
    " "
   ]
  },
  {
   "cell_type": "code",
   "execution_count": 67,
   "metadata": {},
   "outputs": [
    {
     "name": "stdout",
     "output_type": "stream",
     "text": [
      "10 elefantes incomodam muita gente, 9 elefantes incomodam, incomodam, incomodam, incomodam, incomodam, incomodam, incomodam, incomodam, incomodam, incomodam,  muito menos.\n",
      "9 elefantes incomodam muita gente, 8 elefantes incomodam, incomodam, incomodam, incomodam, incomodam, incomodam, incomodam, incomodam, incomodam,  muito menos.\n",
      "8 elefantes incomodam muita gente, 7 elefantes incomodam, incomodam, incomodam, incomodam, incomodam, incomodam, incomodam, incomodam,  muito menos.\n",
      "7 elefantes incomodam muita gente, 6 elefantes incomodam, incomodam, incomodam, incomodam, incomodam, incomodam, incomodam,  muito menos.\n",
      "6 elefantes incomodam muita gente, 5 elefantes incomodam, incomodam, incomodam, incomodam, incomodam, incomodam,  muito menos.\n",
      "5 elefantes incomodam muita gente, 4 elefantes incomodam, incomodam, incomodam, incomodam, incomodam,  muito menos.\n",
      "4 elefantes incomodam muita gente, 3 elefantes incomodam, incomodam, incomodam, incomodam,  muito menos.\n",
      "3 elefantes incomodam muita gente, 2 elefantes incomodam, incomodam, incomodam,  muito menos.\n",
      "2 elefantes incomodam muita gente, 1 elefantes incomodam, incomodam,  muito menos.\n",
      "1 elefante incomoda muita menos\n"
     ]
    }
   ],
   "source": [
    "for elefante in [10,9,8,7,6,5,4,3,2,1]:\n",
    "  if (elefante == 1):\n",
    "    print(elefante, \"elefante incomoda muita menos\")\n",
    "  else:\n",
    "    print(elefante, \"elefantes incomodam muita gente,\" , elefante-1 , \"elefantes\", elefante* \"incomodam, \", \"muito menos.\")\n",
    " "
   ]
  },
  {
   "cell_type": "code",
   "execution_count": 112,
   "metadata": {},
   "outputs": [
    {
     "name": "stdout",
     "output_type": "stream",
     "text": [
      "marina conta 1 marina conta 1 é 1, é 1, é ana, viva mariana, viva mariana\n"
     ]
    },
    {
     "ename": "TypeError",
     "evalue": "'int' object is not subscriptable",
     "output_type": "error",
     "traceback": [
      "\u001b[1;31m---------------------------------------------------------------------------\u001b[0m",
      "\u001b[1;31mTypeError\u001b[0m                                 Traceback (most recent call last)",
      "Cell \u001b[1;32mIn[112], line 5\u001b[0m\n\u001b[0;32m      3\u001b[0m    \u001b[38;5;28mprint\u001b[39m(\u001b[38;5;124m'\u001b[39m\u001b[38;5;124mmarina conta\u001b[39m\u001b[38;5;124m'\u001b[39m, mariana, \u001b[38;5;124m'\u001b[39m\u001b[38;5;124mmarina conta\u001b[39m\u001b[38;5;124m'\u001b[39m, mariana,\u001b[38;5;124m'\u001b[39m\u001b[38;5;124mé 1, é 1, é ana, viva mariana, viva mariana\u001b[39m\u001b[38;5;124m'\u001b[39m)\n\u001b[0;32m      4\u001b[0m \u001b[38;5;28;01melse\u001b[39;00m: \n\u001b[1;32m----> 5\u001b[0m    \u001b[38;5;28mprint\u001b[39m(\u001b[38;5;124m'\u001b[39m\u001b[38;5;124mmarina conta\u001b[39m\u001b[38;5;124m'\u001b[39m, mariana \u001b[38;5;241m+\u001b[39m \u001b[38;5;241m1\u001b[39m, \u001b[38;5;124m'\u001b[39m\u001b[38;5;124mmarina conta\u001b[39m\u001b[38;5;124m'\u001b[39m, mariana \u001b[38;5;241m+\u001b[39m \u001b[38;5;241m1\u001b[39m, \u001b[38;5;241m*\u001b[39m\u001b[38;5;124m'\u001b[39m\u001b[38;5;124mé\u001b[39m\u001b[38;5;124m'\u001b[39m, \u001b[43mmariana\u001b[49m\u001b[43m[\u001b[49m\u001b[43m:\u001b[49m\u001b[38;5;241;43m2\u001b[39;49m\u001b[43m]\u001b[49m, \u001b[38;5;124m'\u001b[39m\u001b[38;5;124mé ana, viva mariana, viva mariana\u001b[39m\u001b[38;5;124m'\u001b[39m)\n",
      "\u001b[1;31mTypeError\u001b[0m: 'int' object is not subscriptable"
     ]
    }
   ],
   "source": [
    "for mariana in [1,2,3,4,5,6,7,8,9,10]:\n",
    "   if(mariana==1):\n",
    "      print('marina conta', mariana, 'marina conta', mariana,'é 1, é 1, é ana, viva mariana, viva mariana')\n",
    "   else: \n",
    "      print('marina conta', mariana + 1, 'marina conta', mariana + 1, *'é', mariana[:2], 'é ana, viva mariana, viva mariana')\n",
    "  "
   ]
  },
  {
   "cell_type": "code",
   "execution_count": 109,
   "metadata": {},
   "outputs": [
    {
     "name": "stdout",
     "output_type": "stream",
     "text": [
      "marina conta 1 ,marina conta 1\n",
      "é 1\n",
      "é ana, viva mariana, viva mariana\n",
      "marina conta 2 ,marina conta 2\n",
      "é 1\n",
      "é 2\n",
      "é ana, viva mariana, viva mariana\n",
      "marina conta 3 ,marina conta 3\n",
      "é 1\n",
      "é 2\n",
      "é 3\n",
      "é ana, viva mariana, viva mariana\n",
      "marina conta 4 ,marina conta 4\n",
      "é 1\n",
      "é 2\n",
      "é 3\n",
      "é 4\n",
      "é ana, viva mariana, viva mariana\n",
      "marina conta 5 ,marina conta 5\n",
      "é 1\n",
      "é 2\n",
      "é 3\n",
      "é 4\n",
      "é 5\n",
      "é ana, viva mariana, viva mariana\n",
      "marina conta 6 ,marina conta 6\n",
      "é 1\n",
      "é 2\n",
      "é 3\n",
      "é 4\n",
      "é 5\n",
      "é 6\n",
      "é ana, viva mariana, viva mariana\n",
      "marina conta 7 ,marina conta 7\n",
      "é 1\n",
      "é 2\n",
      "é 3\n",
      "é 4\n",
      "é 5\n",
      "é 6\n",
      "é 7\n",
      "é ana, viva mariana, viva mariana\n",
      "marina conta 8 ,marina conta 8\n",
      "é 1\n",
      "é 2\n",
      "é 3\n",
      "é 4\n",
      "é 5\n",
      "é 6\n",
      "é 7\n",
      "é 8\n",
      "é ana, viva mariana, viva mariana\n",
      "marina conta 9 ,marina conta 9\n",
      "é 1\n",
      "é 2\n",
      "é 3\n",
      "é 4\n",
      "é 5\n",
      "é 6\n",
      "é 7\n",
      "é 8\n",
      "é 9\n",
      "é ana, viva mariana, viva mariana\n",
      "marina conta 10 ,marina conta 10\n",
      "é 1\n",
      "é 2\n",
      "é 3\n",
      "é 4\n",
      "é 5\n",
      "é 6\n",
      "é 7\n",
      "é 8\n",
      "é 9\n",
      "é 10\n",
      "é ana, viva mariana, viva mariana\n"
     ]
    }
   ],
   "source": [
    "for mariana in [1,2,3,4,5,6,7,8,9,10]:\n",
    "    print('marina conta', mariana,',' 'marina conta', mariana,)\n",
    "    for num in range(1,mariana+1):\n",
    "        print('é', num)\n",
    "    print('é ana, viva mariana, viva mariana')"
   ]
  }
 ],
 "metadata": {
  "kernelspec": {
   "display_name": "Python 3",
   "language": "python",
   "name": "python3"
  },
  "language_info": {
   "codemirror_mode": {
    "name": "ipython",
    "version": 3
   },
   "file_extension": ".py",
   "mimetype": "text/x-python",
   "name": "python",
   "nbconvert_exporter": "python",
   "pygments_lexer": "ipython3",
   "version": "3.11.9"
  }
 },
 "nbformat": 4,
 "nbformat_minor": 2
}
